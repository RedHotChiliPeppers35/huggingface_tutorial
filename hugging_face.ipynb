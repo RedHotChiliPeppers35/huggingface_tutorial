{
  "nbformat": 4,
  "nbformat_minor": 0,
  "metadata": {
    "colab": {
      "provenance": [],
      "gpuType": "T4",
      "authorship_tag": "ABX9TyOZswBbE2jNwR9f5ol+DZdm",
      "include_colab_link": true
    },
    "kernelspec": {
      "name": "python3",
      "display_name": "Python 3"
    },
    "language_info": {
      "name": "python"
    },
    "accelerator": "GPU"
  },
  "cells": [
    {
      "cell_type": "markdown",
      "metadata": {
        "id": "view-in-github",
        "colab_type": "text"
      },
      "source": [
        "<a href=\"https://colab.research.google.com/github/RedHotChiliPeppers35/huggingface_tutorial/blob/main/hugging_face.ipynb\" target=\"_parent\"><img src=\"https://colab.research.google.com/assets/colab-badge.svg\" alt=\"Open In Colab\"/></a>"
      ]
    },
    {
      "cell_type": "markdown",
      "source": [],
      "metadata": {
        "id": "_kLaFV1NZGOv"
      }
    },
    {
      "cell_type": "code",
      "source": [
        "## Text Generation"
      ],
      "metadata": {
        "id": "Vl-uSB-4c4gg"
      },
      "execution_count": null,
      "outputs": []
    },
    {
      "cell_type": "code",
      "source": [
        "from transformers import pipeline"
      ],
      "metadata": {
        "id": "VDHkNH3DZWm5"
      },
      "execution_count": null,
      "outputs": []
    },
    {
      "cell_type": "code",
      "source": [
        "generator = pipeline(\"text-generation\",model=\"openai-community/gpt2\")"
      ],
      "metadata": {
        "id": "MHbpPRa2an1n"
      },
      "execution_count": null,
      "outputs": []
    },
    {
      "cell_type": "code",
      "source": [
        "generator(\"Drugs are \", truncation = False, num_return_sequences = 5)"
      ],
      "metadata": {
        "id": "-DEma7azaxnW"
      },
      "execution_count": null,
      "outputs": []
    },
    {
      "cell_type": "code",
      "source": [
        "##Sentiment Analysis"
      ],
      "metadata": {
        "id": "Ffc8hio7PgH5"
      },
      "execution_count": null,
      "outputs": []
    },
    {
      "cell_type": "code",
      "source": [
        "sentiment_classifier =  pipeline(\"sentiment-analysis\")"
      ],
      "metadata": {
        "id": "yuaGFVkHa7Dz"
      },
      "execution_count": null,
      "outputs": []
    },
    {
      "cell_type": "code",
      "source": [
        "sentiment_classifier(\"I am in love with coding\")"
      ],
      "metadata": {
        "id": "HaDHvBWSf1Pt"
      },
      "execution_count": null,
      "outputs": []
    },
    {
      "cell_type": "code",
      "source": [
        "sentiment_classifier(\"I sometimes struggle while I write codes\")"
      ],
      "metadata": {
        "id": "k00VZTbnf8Nn"
      },
      "execution_count": null,
      "outputs": []
    },
    {
      "cell_type": "code",
      "source": [
        "sentiment_classifier_2 = pipeline(\"sentiment-analysis\", model = \"tabularisai/multilingual-sentiment-analysis\")"
      ],
      "metadata": {
        "id": "DFzEz3RugSZ_"
      },
      "execution_count": null,
      "outputs": []
    },
    {
      "cell_type": "code",
      "source": [
        "sentiment_classifier_2(\"I love this product! It's amazing and works perfectly\")"
      ],
      "metadata": {
        "id": "U_IqYdlNijWw"
      },
      "execution_count": null,
      "outputs": []
    },
    {
      "cell_type": "code",
      "source": [
        "quetion_answering = pipeline(\"question-answering\")"
      ],
      "metadata": {
        "id": "ossC_RYvin4f"
      },
      "execution_count": null,
      "outputs": []
    },
    {
      "cell_type": "code",
      "source": [],
      "metadata": {
        "id": "Rk7BY6X3Qg6g"
      },
      "execution_count": null,
      "outputs": []
    }
  ]
}